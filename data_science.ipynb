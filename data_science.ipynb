{
 "cells": [
  {
   "cell_type": "markdown",
   "metadata": {},
   "source": [
    "Link to Data Source : https://www.kaggle.com/datasets/kamilpytlak/personal-key-indicators-of-heart-disease"
   ]
  },
  {
   "cell_type": "markdown",
   "metadata": {},
   "source": [
    "Câu 1: Viết chương trình cài đặt phương pháp Bootstrap để xuất ra phân bố lấy mẫu và dải tin cậy của một thông số thống kê của một biến (đặc trưng) nào đó của dataset với:\\\n",
    "• Biến (đặc trưng): do SV chọn từ dataset.\\\n",
    "• Thông số thống kê: giá trị trung bình (GTTB).\\\n",
    "• Viết hàm có:\\\n",
    "    • Input parameters: n (sample size), M (number of bootstrap samplings), x (confidence interval in %).\\\n",
    "    • Return values: phân bố lấy mẫu (bằng histogram) và dải tin cậy của GTTB của đặc trưng đã chọn."
   ]
  },
  {
   "cell_type": "code",
   "execution_count": 3,
   "metadata": {},
   "outputs": [],
   "source": [
    "#Các thư viện cần thiết\n",
    "import numpy as np\n",
    "import pandas as pd\n",
    "\n",
    "#Các thư viện dùng để trực quan hóa dữ liệu\n",
    "import matplotlib.pyplot as plt\n",
    "import seaborn as sns\n"
   ]
  },
  {
   "cell_type": "code",
   "execution_count": 20,
   "metadata": {},
   "outputs": [
    {
     "data": {
      "text/plain": [
       "(319795, 18)"
      ]
     },
     "execution_count": 20,
     "metadata": {},
     "output_type": "execute_result"
    }
   ],
   "source": [
    "\n",
    "# Đọc file dataset .csv vào data frame\n",
    "df_heart_disease = pd.read_csv('../bootstrap-sampling-method/heart_2020_cleaned.csv', delimiter=',')\n",
    "df_heart_disease.shape #kích thước của data frame\n"
   ]
  },
  {
   "cell_type": "markdown",
   "metadata": {},
   "source": [
    "Hàm sử dụng phương pháp Bootstrap để xuất ra phân bố lấy mẫu và dải tin cậy:\\\n",
    "Đầu vào: N, M, x.\\\n",
    "Trong đó: \\\n",
    "    + N: số quan sát có trong 1 mẫu (kích thước của 1 mẫu).\\\n",
    "    + M: số lượng mẫu Bootstap.\\\n",
    "    + x: khoảng tin cậy (%)."
   ]
  },
  {
   "cell_type": "code",
   "execution_count": 14,
   "metadata": {},
   "outputs": [],
   "source": [
    "#Hàm phân bố lấy mẫu sử dụng phương pháp bootstrap\n",
    "def bootstrapping(N, M, x):\n",
    "    #Khởi tạo các biến\n",
    "    upper_bound = 0\n",
    "    lower_bound = 0\n",
    "    mean_bootstrap = []\n",
    "\n",
    "    for _ in range(M):\n",
    "        #Tạo mẫu với kích thước là N, các giá trị có thể lặp\n",
    "        new_df = df_heart_disease.sample(n= N, replace=True)\n",
    "\n",
    "        #Lưu giá trị Mean tìm được của mẫu đó\n",
    "        mean_bootstrap.append(float(new_df.mean(axis=0)))\n",
    "\n",
    "    dict = {'Mean BMI of Heart Disease': mean_bootstrap}\n",
    "    mean_bootstrap = pd.DataFrame(dict)\n",
    "\n",
    "    #Sắp xếp lại các giá trị trong mean_bootstrap theo thứ tự tăng dần\n",
    "    sorted_df = mean_bootstrap.sort_values(by='Mean BMI of Heart Disease', ascending=True)\n",
    "    \n",
    "    lower_bound = sorted_df.iloc[round(M*x)] #Tính vị trí giới hạn dưới\n",
    "    upper_bound = sorted_df.iloc[round(M*(1-x))] #Tính vị trí giới hạn trên\n",
    "    mean_line = sorted_df.mean() #Tính vị trí của mean\n",
    "\n",
    "    return mean_bootstrap, lower_bound, upper_bound, mean_line\n"
   ]
  },
  {
   "cell_type": "markdown",
   "metadata": {},
   "source": [
    "CƠ SỞ ĐỂ TÍNH DẢI TIN CẬY:\\\n",
    "Cú pháp hàm SMALL trong file excel Bootstrap_method\\\n",
    "    =SMALL(array, k)\\\n",
    "    Trong đó:\\\n",
    "    array: Là phạm vi vùng dữ liệu dạng số chứa giá trị bạn cần xác định giá trị nhỏ thứ k.\\\n",
    "    k: Là thứ hạng của giá trị (tính từ giá trị nhỏ nhất) trong vùng dữ liệu cần trả về.\\\n",
    "\\\n",
    "ÁP DỤNG:\n",
    "- array sẽ là tập sorted_df. \n",
    "* Đối với cách tìm vị trí giới hạn dưới: \n",
    "    - k = M * x.\n",
    "* Đối với cách tìm vị trí giới hạn trên: \n",
    "    - k = M * (1 - x)."
   ]
  },
  {
   "cell_type": "markdown",
   "metadata": {},
   "source": [
    "Xuất đồ thị Histogram - phân bố lấy mẫu với dải tin cậy của GTTB của đặc trưng"
   ]
  },
  {
   "cell_type": "code",
   "execution_count": 21,
   "metadata": {},
   "outputs": [
    {
     "name": "stdout",
     "output_type": "stream",
     "text": [
      "Giới hạn dưới: 28.58\n",
      "Giới hạn trên: 29.82\n",
      "Mean: 29.19\n"
     ]
    },
    {
     "data": {
      "image/png": "[encoded data removed]",
      "text/plain": [
       "<Figure size 432x288 with 1 Axes>"
      ]
     },
     "metadata": {
      "needs_background": "light"
     },
     "output_type": "display_data"
    }
   ],
   "source": [
    "#Lấy 900 hàng đầu tiên theo đặc trưng BMI có chứa đặc trưng HeartDisease giá trị là 'Yes'\n",
    "df_heart_disease = (df_heart_disease['BMI'][df_heart_disease['HeartDisease'] == \"Yes\"]).head(900)\n",
    "\n",
    "#Gọi hàm bootstrapping\n",
    "mean_bootstrap, lower_bound, upper_bound, mean_line = bootstrapping(300,6000,0.05) # dataframe, n, M, x%\n",
    "\n",
    "#Histogram\n",
    "sns.histplot(mean_bootstrap['Mean BMI of Heart Disease'], kde=True ,color = 'brown', bins=20)\n",
    "\n",
    "#Khoảng tin cậy\n",
    "lower_bound = float(\"{:.2f}\".format(float(lower_bound)))\n",
    "upper_bound = float( \"{:.2f}\".format(float(upper_bound)))\n",
    "mean_line = float( \"{:.2f}\".format(float(mean_line)))\n",
    "\n",
    "print('Giới hạn dưới: ' + str(lower_bound))\n",
    "print('Giới hạn trên: '  + str(upper_bound))\n",
    "print('Mean: '  + str(mean_line))\n",
    "\n",
    "plt.axvline(lower_bound, 0,20)\n",
    "plt.axvline(upper_bound, 0,20)\n",
    "plt.axvline(mean_line, 0,20, color = 'k', linestyle = '--')\n",
    "\n",
    "plt.text(lower_bound, 700, str(lower_bound), fontsize=10)\n",
    "plt.text(upper_bound, 700, str(upper_bound), fontsize=10)\n",
    "plt.text(mean_line-0.15, 700, \"Mean: \" + str(mean_line), fontsize=10)\n",
    "plt.show()"
   ]
  },
  {
   "cell_type": "markdown",
   "metadata": {},
   "source": [
    "A kernel density estimate (KDE) là biểu đồ ước tính mật độ, là 1 phương pháp để trực quan hóa sự phân bố của các quan sát trong tập dữ liệu tương ứng với biểu đồ "
   ]
  }
 ],
 "metadata": {
  "interpreter": {
   "hash": "63fd5069d213b44bf678585dea6b12cceca9941eaf7f819626cde1f2670de90d"
  },
  "kernelspec": {
   "display_name": "Python 3.9.7 64-bit",
   "language": "python",
   "name": "python3"
  },
  "language_info": {
   "codemirror_mode": {
    "name": "ipython",
    "version": 3
   },
   "file_extension": ".py",
   "mimetype": "text/x-python",
   "name": "python",
   "nbconvert_exporter": "python",
   "pygments_lexer": "ipython3",
   "version": "3.9.7"
  },
  "orig_nbformat": 4
 },
 "nbformat": 4,
 "nbformat_minor": 2
}
