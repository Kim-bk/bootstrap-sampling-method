{
 "cells": [
  {
   "cell_type": "markdown",
   "metadata": {},
   "source": [
    "Link to Data Source : https://www.kaggle.com/datasets/shantanudhakadd/bank-customer-churn-prediction"
   ]
  },
  {
   "cell_type": "markdown",
   "metadata": {},
   "source": [
    "Câu 1: Viết chương trình cài đặt phương pháp Bootstrap để xuất ra phân bố lấy mẫu và dải tin cậy của một thông số thống kê của một biến (đặc trưng) nào đó của dataset với:\\\n",
    "• Biến (đặc trưng): do SV chọn từ dataset.\\\n",
    "• Thông số thống kê: giá trị trung bình (GTTB).\\\n",
    "• Viết hàm có:\\\n",
    "    • Input parameters: n (sample size), M (number of bootstrap samplings), x (confidence interval in %).\\\n",
    "    • Return values: phân bố lấy mẫu (bằng histogram) và dải tin cậy của GTTB của đặc trưng đã chọn."
   ]
  },
  {
   "cell_type": "code",
   "execution_count": 2,
   "metadata": {},
   "outputs": [],
   "source": [
    "#Các thư viện cần thiết\n",
    "import numpy as np\n",
    "import pandas as pd\n",
    "\n",
    "#Các thư viện dùng để trực quan hóa dữ liệu\n",
    "import matplotlib.pyplot as plt\n",
    "import seaborn as sns\n"
   ]
  },
  {
   "cell_type": "code",
   "execution_count": 3,
   "metadata": {},
   "outputs": [
    {
     "data": {
      "text/plain": [
       "(10000, 14)"
      ]
     },
     "execution_count": 3,
     "metadata": {},
     "output_type": "execute_result"
    }
   ],
   "source": [
    "# Read the data frame\n",
    "df = pd.read_csv('../bootstrap-sampling-method/Churn_Modelling.csv', delimiter=',')\n",
    "df.shape"
   ]
  },
  {
   "cell_type": "markdown",
   "metadata": {},
   "source": [
    "Hàm sử dụng phương pháp Bootstrap để xuất ra phân bố lấy mẫu và dải tin cậy:\\\n",
    "Đầu vào: N, M, x.\\\n",
    "Trong đó: \\\n",
    "    + N: số quan sát có trong 1 mẫu (kích thước của 1 mẫu).\\\n",
    "    + M: số lượng mẫu Bootstap.\\\n",
    "    + x: khoảng tin cậy (%)."
   ]
  },
  {
   "cell_type": "code",
   "execution_count": 2,
   "metadata": {},
   "outputs": [],
   "source": [
    "def bootstrapping(N, M, x):\n",
    "    #Khởi tạo các biến\n",
    "    upper_bound = 0\n",
    "    lower_bound = 0\n",
    "    mean_bootstrap = []\n",
    "\n",
    "    for _ in range(M):\n",
    "        #Tạo mẫu với kích thước là N, các giá trị có thể lặp\n",
    "        new_df = df.sample(n= N, replace=True)\n",
    "\n",
    "        #Lưu giá trị Mean tìm được của mẫu đó\n",
    "        mean_bootstrap.append(float(new_df.mean(axis=0)))\n",
    "\n",
    "\n",
    "    dict = {'Mean Bootstrap': mean_bootstrap}\n",
    "    mean_bootstrap = pd.DataFrame(dict)\n",
    "\n",
    "    #Cú pháp hàm SMALL trong excel\n",
    "    # =SMALL(array, k)\n",
    "    # Trong đó:\n",
    "    # array: Là phạm vi vùng dữ liệu dạng số chứa giá trị bạn cần xác định giá trị nhỏ thứ k.\n",
    "    # k: Là thứ hạng của giá trị (tính từ giá trị nhỏ nhất) trong vùng dữ liệu cần trả về.\n",
    "\n",
    "    #Sắp xếp lại các giá trị trong mean_bootstrap theo thứ tự tăng dần\n",
    "    sorted_df = mean_bootstrap.sort_values(by='Mean Bootstrap', ascending=True)\n",
    "    #đọc lại lý thuyết cách tính dải tin cậy này trong file excel ...\n",
    "    lower_bound = sorted_df.iloc[round(M*x)]\n",
    "    upper_bound = sorted_df.iloc[round(M*(1-x))]\n",
    "\n",
    "    return mean_bootstrap, lower_bound, upper_bound\n"
   ]
  },
  {
   "cell_type": "markdown",
   "metadata": {},
   "source": [
    "Xuất đồ thị Histogram - phân bố lấy mẫu với dải tin cậy của GTTB của đặc trưng"
   ]
  },
  {
   "cell_type": "code",
   "execution_count": 13,
   "metadata": {},
   "outputs": [
    {
     "name": "stdout",
     "output_type": "stream",
     "text": [
      "Cận dưới: 27.6\n",
      "Cận trên: 57.1\n"
     ]
    },
    {
     "data": {
      "image/png": "[encoded data removed]",
      "text/plain": [
       "<Figure size 432x288 with 1 Axes>"
      ]
     },
     "metadata": {
      "needs_background": "light"
     },
     "output_type": "display_data"
    }
   ],
   "source": [
    "#Gọi hàm bootstrapping\n",
    "mean_bootstrap, lower_bound, upper_bound = bootstrapping(10,201,0.05) # n, M, x%\n",
    "\n",
    "# histogram\n",
    "#Giải thích các tham số trong hàm histplot ... \n",
    "sns.histplot(mean_bootstrap['Mean Bootstrap'], kde=True ,color = 'brown', bins=20)\n",
    "\n",
    "# khoảng tin cậy\n",
    "print('Cận dưới: ' + str(float(lower_bound)))\n",
    "print('Cận trên: '  + str(float(upper_bound)))\n",
    "plt.axvline(float(lower_bound), 0,20)\n",
    "plt.axvline(float(upper_bound), 0,20)\n",
    "plt.show()\n",
    "\n"
   ]
  }
 ],
 "metadata": {
  "interpreter": {
   "hash": "63fd5069d213b44bf678585dea6b12cceca9941eaf7f819626cde1f2670de90d"
  },
  "kernelspec": {
   "display_name": "Python 3.9.7 64-bit",
   "language": "python",
   "name": "python3"
  },
  "language_info": {
   "codemirror_mode": {
    "name": "ipython",
    "version": 3
   },
   "file_extension": ".py",
   "mimetype": "text/x-python",
   "name": "python",
   "nbconvert_exporter": "python",
   "pygments_lexer": "ipython3",
   "version": "3.9.7"
  },
  "orig_nbformat": 4
 },
 "nbformat": 4,
 "nbformat_minor": 2
}
