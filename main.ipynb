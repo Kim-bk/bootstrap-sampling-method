{
 "cells": [
  {
   "cell_type": "markdown",
   "metadata": {},
   "source": [
    "* Link to Data Source : https://www.kaggle.com/datasets/adithyabshetty100/student-performance\n",
    "* Tên của Dataset: Student performance.\n",
    "* Mục đích của Dataset này:\n",
    "    - Để hiểu rõ hơn về hiệu suất của học sinh (điểm kiểm tra) bị ảnh hưởng như thế nào bởi các biến số khác (Giới tính, Phân loại nhóm, Trình độ học vấn của cha mẹ, Bữa trưa, khóa học luyện thi).\n",
    "----"
   ]
  },
  {
   "cell_type": "markdown",
   "metadata": {},
   "source": [
    "Câu 1: Viết chương trình cài đặt phương pháp Bootstrap để xuất ra phân bố lấy mẫu và dải tin cậy của một thông số thống kê của một biến (đặc trưng) nào đó của dataset với:\n",
    "------\n",
    "• Biến (đặc trưng): do SV chọn từ dataset.\\\n",
    "• Thông số thống kê: giá trị trung bình (GTTB).\\\n",
    "• Viết hàm có:\\\n",
    "    • Input parameters: n (sample size), M (number of bootstrap samplings), x (confidence interval in %).\\\n",
    "    • Return values: phân bố lấy mẫu (bằng histogram) và dải tin cậy của GTTB của đặc trưng đã chọn."
   ]
  },
  {
   "cell_type": "code",
   "execution_count": 1,
   "metadata": {},
   "outputs": [],
   "source": [
    "#Các thư viện cần thiết\n",
    "import pandas as pd\n",
    "\n",
    "#Các thư viện dùng để trực quan hóa dữ liệu\n",
    "import matplotlib.pyplot as plt\n",
    "import seaborn as sns\n"
   ]
  },
  {
   "cell_type": "code",
   "execution_count": 2,
   "metadata": {},
   "outputs": [
    {
     "data": {
      "text/plain": [
       "(1000, 8)"
      ]
     },
     "execution_count": 2,
     "metadata": {},
     "output_type": "execute_result"
    }
   ],
   "source": [
    "#Đọc file dataset .csv vào data frame\n",
    "df = pd.read_csv('../bootstrap-sampling-method/StudentsPerformance.csv')\n",
    "\n",
    "#Xóa tất cả các hàng chứa giá trị rỗng\n",
    "df = df.dropna()\n",
    "\n",
    "#Kích thước của data frame\n",
    "df.shape"
   ]
  },
  {
   "cell_type": "code",
   "execution_count": 3,
   "metadata": {},
   "outputs": [
    {
     "data": {
      "text/plain": [
       "gender                         0\n",
       "race/ethnicity                 0\n",
       "parental level of education    0\n",
       "lunch                          0\n",
       "test preparation course        0\n",
       "math score                     0\n",
       "reading score                  0\n",
       "writing score                  0\n",
       "dtype: int64"
      ]
     },
     "execution_count": 3,
     "metadata": {},
     "output_type": "execute_result"
    }
   ],
   "source": [
    "df.isnull().sum()"
   ]
  },
  {
   "cell_type": "markdown",
   "metadata": {},
   "source": [
    "=> Các giá trị rỗng đã được loại bỏ khỏi Dataset"
   ]
  },
  {
   "cell_type": "code",
   "execution_count": 4,
   "metadata": {},
   "outputs": [
    {
     "data": {
      "text/plain": [
       "Index(['gender', 'race/ethnicity', 'parental level of education', 'lunch',\n",
       "       'test preparation course', 'math score', 'reading score',\n",
       "       'writing score'],\n",
       "      dtype='object')"
      ]
     },
     "execution_count": 4,
     "metadata": {},
     "output_type": "execute_result"
    }
   ],
   "source": [
    "df.columns"
   ]
  },
  {
   "cell_type": "markdown",
   "metadata": {},
   "source": [
    "* Các đặc trưng: \n",
    "    - gender: Giới tính của học sinh.\n",
    "    - race/ethnicity: Phân loại học sinh theo group A/B/C/D/E.\n",
    "    - parental level of education : Trình độ học vấn của phụ huynh học sinh.\n",
    "    - lunch: Bữa trưa của học sinh (standard - free/reduced).\n",
    "    - test preparation course: Khóa học luyện thi (completed - none).\n",
    "    - math score: Điểm môn Toán (0 - 100).\n",
    "    - reading score: Điểm môn Đọc (0 - 100).\n",
    "    - writing score: Điểm môn Viết (0 - 100)."
   ]
  },
  {
   "cell_type": "code",
   "execution_count": 5,
   "metadata": {},
   "outputs": [
    {
     "data": {
      "text/plain": [
       "array(['female', 'male'], dtype=object)"
      ]
     },
     "execution_count": 5,
     "metadata": {},
     "output_type": "execute_result"
    }
   ],
   "source": [
    "df['gender'].unique()"
   ]
  },
  {
   "cell_type": "code",
   "execution_count": 6,
   "metadata": {},
   "outputs": [
    {
     "data": {
      "text/plain": [
       "array(['group B', 'group C', 'group A', 'group D', 'group E'],\n",
       "      dtype=object)"
      ]
     },
     "execution_count": 6,
     "metadata": {},
     "output_type": "execute_result"
    }
   ],
   "source": [
    "df['race/ethnicity'].unique()"
   ]
  },
  {
   "cell_type": "code",
   "execution_count": 7,
   "metadata": {},
   "outputs": [
    {
     "data": {
      "text/plain": [
       "array([\"bachelor's degree\", 'some college', \"master's degree\",\n",
       "       \"associate's degree\", 'high school', 'some high school'],\n",
       "      dtype=object)"
      ]
     },
     "execution_count": 7,
     "metadata": {},
     "output_type": "execute_result"
    }
   ],
   "source": [
    "df['parental level of education'].unique()"
   ]
  },
  {
   "cell_type": "code",
   "execution_count": 8,
   "metadata": {},
   "outputs": [
    {
     "data": {
      "text/plain": [
       "array(['standard', 'free/reduced'], dtype=object)"
      ]
     },
     "execution_count": 8,
     "metadata": {},
     "output_type": "execute_result"
    }
   ],
   "source": [
    "df['lunch'].unique()"
   ]
  },
  {
   "cell_type": "code",
   "execution_count": 9,
   "metadata": {},
   "outputs": [
    {
     "data": {
      "text/plain": [
       "array(['none', 'completed'], dtype=object)"
      ]
     },
     "execution_count": 9,
     "metadata": {},
     "output_type": "execute_result"
    }
   ],
   "source": [
    "df['test preparation course'].unique()"
   ]
  },
  {
   "cell_type": "markdown",
   "metadata": {},
   "source": [
    "Hàm sử dụng phương pháp Bootstrap để xuất ra phân bố lấy mẫu và dải tin cậy:\n",
    "-----------------------------------------------------------------\n",
    "Đầu vào: N, M, x.\\\n",
    "Trong đó: \\\n",
    "    + N: số quan sát có trong 1 mẫu (kích thước của 1 mẫu).\\\n",
    "    + M: số lượng mẫu Bootstap.\\\n",
    "    + x: mức ý nghĩa (%)."
   ]
  },
  {
   "cell_type": "markdown",
   "metadata": {},
   "source": [
    "Ý tưởng cho phương pháp Bootstrap:\n",
    "---\n",
    "- Chạy một vòng lặp M lần để tạo M mẫu.\n",
    "- Trong vòng lặp:\n",
    "    - Với từng mẫu, ta sẽ ngẫu nhiên chọn ra N giá trị từ tập mẫu gốc và các giá trị đó có thể trùng lặp.\n",
    "    - Khi đã có N giá trị ,ta sẽ tính giá GTTB (hay Mean) của N giá trị đó và được thêm vào một list.\n",
    "- List này lưu M giá trị GTTB hay còn gọi là lưu phân bố lấy mẫu của tập mẫu gốc đó.\n",
    "- List này sẽ còn được sử dụng cho việc tính dải tin cậy."
   ]
  },
  {
   "cell_type": "markdown",
   "metadata": {},
   "source": [
    "Cách tính dải tin cậy:\n",
    "---\n",
    "- Cú pháp hàm SMALL trong file Bootstrap_method.csv:\n",
    "- Link to file Bootstrap_method.csv: https://view.officeapps.live.com/op/view.aspx?src=http%3A%2F%2Fbis.net.vn%2Ffiles%2Fstorage%2F20110619164310503.xls&wdOrigin=BROWSELINK\\\n",
    "    - SMALL(array, k)\n",
    "    * Trong đó:\n",
    "        - array: Là phạm vi vùng dữ liệu dạng số chứa giá trị bạn cần xác định giá trị nhỏ thứ k.\n",
    "        - k: Là thứ hạng của giá trị (tính từ giá trị nhỏ nhất) trong vùng dữ liệu cần trả về.\n",
    "- Áp dụng:\n",
    "    * Sử dụng hàm iloc trong dataframe để tìm giá trị của vị trí có trong tập data frame\n",
    "    * array sẽ là tập list được xử lý ở trên. \n",
    "    * Đối với cách tìm vị trí giới hạn dưới: \n",
    "        - k = M * x.\n",
    "    * Đối với cách tìm vị trí giới hạn trên: \n",
    "        - k = M * (1 - x)."
   ]
  },
  {
   "cell_type": "code",
   "execution_count": 10,
   "metadata": {},
   "outputs": [],
   "source": [
    "#Hàm phân bố lấy mẫu sử dụng phương pháp Bootstrap\n",
    "def bootstrap(N, M, x):\n",
    "    #Khởi tạo các biến\n",
    "    upper_bound = 0\n",
    "    lower_bound = 0\n",
    "    mean_bootstrap = []\n",
    "\n",
    "    for _ in range(M):\n",
    "        #Tạo mẫu với kích thước là N, các giá trị có thể lặp\n",
    "        new_df = df_math_score.sample(n= N, replace=True)\n",
    "\n",
    "        #Lưu giá trị Mean tìm được của mẫu đó\n",
    "        mean_bootstrap.append(float(new_df.mean(axis=0)))\n",
    "\n",
    "    #Tạo từ điển với thuộc tính: Mean Bootstrap (Math Score)\n",
    "    dict = {'Mean Bootstrap (Math Score)': mean_bootstrap}\n",
    "    mean_bootstrap = pd.DataFrame(dict)\n",
    "\n",
    "    #Sắp xếp lại các giá trị theo thuộc tính 'Mean Bootstrap (Math Score)' trong mean_bootstrap theo thứ tự tăng dần\n",
    "    sorted_df = mean_bootstrap.sort_values(by='Mean Bootstrap (Math Score)', ascending=True)\n",
    "    \n",
    "    lower_bound = sorted_df.iloc[round(M*x)] #Tính vị trí giới hạn dưới\n",
    "    upper_bound = sorted_df.iloc[round(M*(1-x))] #Tính vị trí giới hạn trên\n",
    "    mean_line = sorted_df.mean() #Tính vị trí của mean\n",
    "\n",
    "    return mean_bootstrap, lower_bound, upper_bound, mean_line\n"
   ]
  },
  {
   "cell_type": "markdown",
   "metadata": {},
   "source": [
    "Xuất đồ thị Histogram - phân bố lấy mẫu với dải tin cậy của GTTB của đặc trưng\n",
    "------------------------------------------------------------"
   ]
  },
  {
   "cell_type": "markdown",
   "metadata": {},
   "source": [
    "Sử dụng đặc trưng là 'math score' trong datasets để thực hiện"
   ]
  },
  {
   "cell_type": "code",
   "execution_count": 11,
   "metadata": {},
   "outputs": [
    {
     "name": "stdout",
     "output_type": "stream",
     "text": [
      "Giới hạn dưới: 64.77\n",
      "Giới hạn trên: 67.44\n",
      "Mean: 66.1\n"
     ]
    },
    {
     "data": {
      "image/png": "[encoded data removed]",
      "text/plain": [
       "<Figure size 1080x720 with 1 Axes>"
      ]
     },
     "metadata": {
      "needs_background": "light"
     },
     "output_type": "display_data"
    }
   ],
   "source": [
    "#Lấy tất cả record có trong dataset (gồm 1000 records) với đặc trưng (biến) là 'math score'\n",
    "df_math_score = df['math score']\n",
    "\n",
    "#Gọi hàm bootstrap()\n",
    "mean_bootstrap, lower_bound, upper_bound, mean_line = bootstrap(333,6666,0.05) # tương úng với n, M, x%\n",
    "#Các tham số n, M, x% tham khảo cách lấy trong file Bootstrap_method.csv (10,201,0.05)\n",
    "\n",
    "#Histogram\n",
    "plt.figure(figsize=(15,10))\n",
    "sns.histplot(mean_bootstrap['Mean Bootstrap (Math Score)'] ,color = 'brown', bins=20)\n",
    "\n",
    "#Khoảng tin cậy\n",
    "lower_bound = float(\"{:.2f}\".format(float(lower_bound)))\n",
    "upper_bound = float( \"{:.2f}\".format(float(upper_bound)))\n",
    "mean_line = float( \"{:.2f}\".format(float(mean_line)))\n",
    "\n",
    "#In ra các giá trị\n",
    "print('Giới hạn dưới: ' + str(lower_bound))\n",
    "print('Giới hạn trên: '  + str(upper_bound))\n",
    "print('Mean: '  + str(mean_line))\n",
    "\n",
    "#Vẽ các biên\n",
    "plt.axvline(lower_bound, 0,20)\n",
    "plt.axvline(upper_bound, 0,20)\n",
    "plt.axvline(mean_line, 0,20, color = 'k', linestyle = '--')\n",
    "\n",
    "plt.text(lower_bound, 700, str(lower_bound), fontsize=10)\n",
    "plt.text(upper_bound, 700, str(upper_bound), fontsize=10)\n",
    "plt.text(mean_line-0.15, 700, \"Mean: \" + str(mean_line), fontsize=10)\n",
    "plt.show()"
   ]
  },
  {
   "cell_type": "markdown",
   "metadata": {},
   "source": [
    "Câu 2:\n",
    "Dựa trên cùng dataset với Câu 1, viết chương trình xuất ra và thuyết trình các thống kê mô \n",
    "tả quan trọng của các biến, các mối quan hệ giữa các biến, quy luật tiềm ẩn của dataset có \n",
    "thể quan sát nhờ các công cụ trực quan hoá dữ liệu (ví dụ: scatter plot, heat/cluster map, \n",
    "linear model plot,…).\n",
    "--------"
   ]
  },
  {
   "cell_type": "markdown",
   "metadata": {},
   "source": [
    "So sánh các điểm số với các đặc trưng còn lại\n",
    "---------------------"
   ]
  },
  {
   "cell_type": "markdown",
   "metadata": {},
   "source": [
    "Điểm 3 môn với đặc trưng về Giới tính 'gender':"
   ]
  },
  {
   "cell_type": "code",
   "execution_count": 12,
   "metadata": {},
   "outputs": [
    {
     "data": {
      "text/plain": [
       "<seaborn.axisgrid.PairGrid at 0x2216a7db4c0>"
      ]
     },
     "execution_count": 12,
     "metadata": {},
     "output_type": "execute_result"
    },
    {
     "data": {
      "image/png": "[encoded data removed]",
      "text/plain": [
       "<Figure size 610.5x540 with 12 Axes>"
      ]
     },
     "metadata": {
      "needs_background": "light"
     },
     "output_type": "display_data"
    }
   ],
   "source": [
    "sns.pairplot(df, hue='gender')"
   ]
  },
  {
   "cell_type": "markdown",
   "metadata": {},
   "source": [
    "* Nhận xét:\n",
    "    1. Điểm môn Toán của các học sinh nam cao hơn so với học sinh nữ.\n",
    "    2. Điểm môn Đọc và Viết của các học sinh nữ tốt hơn so với học sinh nam.\\\n",
    "=> Tổng thể thì các học sinh nữ cho ra kết quả làm bài tốt hơn do có điểm số tốt ở 2 môn Đọc, Viết."
   ]
  },
  {
   "cell_type": "markdown",
   "metadata": {},
   "source": [
    "Thêm đặc trưng về tổng điểm của 3 môn để thống kê ngắn gọn và tổng quát"
   ]
  },
  {
   "cell_type": "code",
   "execution_count": 13,
   "metadata": {},
   "outputs": [
    {
     "data": {
      "text/html": [
       "<div>\n",
       "<style scoped>\n",
       "    .dataframe tbody tr th:only-of-type {\n",
       "        vertical-align: middle;\n",
       "    }\n",
       "\n",
       "    .dataframe tbody tr th {\n",
       "        vertical-align: top;\n",
       "    }\n",
       "\n",
       "    .dataframe thead th {\n",
       "        text-align: right;\n",
       "    }\n",
       "</style>\n",
       "<table border=\"1\" class=\"dataframe\">\n",
       "  <thead>\n",
       "    <tr style=\"text-align: right;\">\n",
       "      <th></th>\n",
       "      <th>gender</th>\n",
       "      <th>race/ethnicity</th>\n",
       "      <th>parental level of education</th>\n",
       "      <th>lunch</th>\n",
       "      <th>test preparation course</th>\n",
       "      <th>math score</th>\n",
       "      <th>reading score</th>\n",
       "      <th>writing score</th>\n",
       "      <th>total score</th>\n",
       "    </tr>\n",
       "  </thead>\n",
       "  <tbody>\n",
       "    <tr>\n",
       "      <th>0</th>\n",
       "      <td>female</td>\n",
       "      <td>group B</td>\n",
       "      <td>bachelor's degree</td>\n",
       "      <td>standard</td>\n",
       "      <td>none</td>\n",
       "      <td>72</td>\n",
       "      <td>72</td>\n",
       "      <td>74</td>\n",
       "      <td>218</td>\n",
       "    </tr>\n",
       "    <tr>\n",
       "      <th>1</th>\n",
       "      <td>female</td>\n",
       "      <td>group C</td>\n",
       "      <td>some college</td>\n",
       "      <td>standard</td>\n",
       "      <td>completed</td>\n",
       "      <td>69</td>\n",
       "      <td>90</td>\n",
       "      <td>88</td>\n",
       "      <td>247</td>\n",
       "    </tr>\n",
       "    <tr>\n",
       "      <th>2</th>\n",
       "      <td>female</td>\n",
       "      <td>group B</td>\n",
       "      <td>master's degree</td>\n",
       "      <td>standard</td>\n",
       "      <td>none</td>\n",
       "      <td>90</td>\n",
       "      <td>95</td>\n",
       "      <td>93</td>\n",
       "      <td>278</td>\n",
       "    </tr>\n",
       "    <tr>\n",
       "      <th>3</th>\n",
       "      <td>male</td>\n",
       "      <td>group A</td>\n",
       "      <td>associate's degree</td>\n",
       "      <td>free/reduced</td>\n",
       "      <td>none</td>\n",
       "      <td>47</td>\n",
       "      <td>57</td>\n",
       "      <td>44</td>\n",
       "      <td>148</td>\n",
       "    </tr>\n",
       "    <tr>\n",
       "      <th>4</th>\n",
       "      <td>male</td>\n",
       "      <td>group C</td>\n",
       "      <td>some college</td>\n",
       "      <td>standard</td>\n",
       "      <td>none</td>\n",
       "      <td>76</td>\n",
       "      <td>78</td>\n",
       "      <td>75</td>\n",
       "      <td>229</td>\n",
       "    </tr>\n",
       "  </tbody>\n",
       "</table>\n",
       "</div>"
      ],
      "text/plain": [
       "   gender race/ethnicity parental level of education         lunch  \\\n",
       "0  female        group B           bachelor's degree      standard   \n",
       "1  female        group C                some college      standard   \n",
       "2  female        group B             master's degree      standard   \n",
       "3    male        group A          associate's degree  free/reduced   \n",
       "4    male        group C                some college      standard   \n",
       "\n",
       "  test preparation course  math score  reading score  writing score  \\\n",
       "0                    none          72             72             74   \n",
       "1               completed          69             90             88   \n",
       "2                    none          90             95             93   \n",
       "3                    none          47             57             44   \n",
       "4                    none          76             78             75   \n",
       "\n",
       "   total score  \n",
       "0          218  \n",
       "1          247  \n",
       "2          278  \n",
       "3          148  \n",
       "4          229  "
      ]
     },
     "execution_count": 13,
     "metadata": {},
     "output_type": "execute_result"
    }
   ],
   "source": [
    "#Thêm 1 đặc trưng về tổng điểm của 3 môn\n",
    "df['total score'] = df['math score'] + df['reading score'] + df['writing score']\n",
    "df.head()"
   ]
  },
  {
   "cell_type": "markdown",
   "metadata": {},
   "source": [
    "So sánh tổng điểm của các học sinh với các đặc trưng còn lại (lunch, test preparation course, parental level of education, race/ethnicity):"
   ]
  },
  {
   "cell_type": "code",
   "execution_count": 14,
   "metadata": {},
   "outputs": [
    {
     "data": {
      "text/plain": [
       "<AxesSubplot:title={'center':'ethnicity'}, xlabel='race/ethnicity', ylabel='total score'>"
      ]
     },
     "execution_count": 14,
     "metadata": {},
     "output_type": "execute_result"
    },
    {
     "data": {
      "image/png": "[encoded data removed]",
      "text/plain": [
       "<Figure size 1440x576 with 4 Axes>"
      ]
     },
     "metadata": {
      "needs_background": "light"
     },
     "output_type": "display_data"
    }
   ],
   "source": [
    "plt.figure(figsize=(20,8))\n",
    "plt.subplots_adjust(top=1,bottom=0,right=1,left=0,hspace=0.25,wspace=0.5)\n",
    "\n",
    "plt.subplot(221)\n",
    "plt.title(\"lunch\")\n",
    "sns.barplot(x ='lunch', y = 'total score', data= df)\n",
    "\n",
    "plt.subplot(222)\n",
    "plt.title(\"test preparation course\")\n",
    "sns.barplot(x='test preparation course', y='total score', data=df)\n",
    "\n",
    "plt.subplot(223)\n",
    "plt.title(\"parental level of education\")\n",
    "sns.barplot(x='parental level of education', y='total score', data=df)\n",
    "\n",
    "plt.subplot(224)\n",
    "plt.title(\"ethnicity\")\n",
    "sns.barplot(x='race/ethnicity', y='total score', data=df)\n"
   ]
  },
  {
   "cell_type": "markdown",
   "metadata": {},
   "source": [
    "* Nhận xét:\n",
    "    1. Với đồ thị 'lunch':\n",
    "        - Các học sinh có tổng điểm tốt hơn khi có bữa ăn trưa tiêu chuẩn thay vì bữa ăn trưa miễn phí hoặc không ăn.\\\n",
    "    => Bữa ăn trưa cũng ảnh hưởng tới sức khỏe và chất lượng làm bài của học sinh.\n",
    "    2. Với đồ thị 'test preparation course':\n",
    "        - Các học sinh có tổng điểm tốt hơn khi hoàn thành khóa học luyện thi và ngược lại.\\\n",
    "        => Hoàn thành các khóa học luyện thi mang lại điểm số tốt hơn.\n",
    "    3. Với đồ thị 'parental level of education':\n",
    "        - Các học sinh với cha mẹ có trình độ học vấn là 'master's degree' có tổng điểm là cao nhất.\n",
    "        - Với 'high school' là thấp nhất.\\\n",
    "        => Cha mẹ giáo dục, quan tâm con cái nhiều thì trẻ em càng có trình độ học vấn cao.\n",
    "    4. Với đồ thị 'ethnicity':\n",
    "        - Các học sinh ở 'group E' có tổng điểm tốt nhất so với các group còn lại.\n",
    "        - 'group A' có tổng điểm thấp nhất\\\n",
    "            => Tổng điểm của các học sinh được cải thiện theo thứ tự group A -> B -> C -> D -> E.\n",
    "    \n",
    "\n"
   ]
  },
  {
   "cell_type": "markdown",
   "metadata": {},
   "source": [
    "So sánh tương quan giữa các đặc trưng\n",
    "------"
   ]
  },
  {
   "cell_type": "markdown",
   "metadata": {},
   "source": [
    "Với các phần thống kê so sánh ở trên, em có qui ước cho các giá trị của đặc trưng như sau:\n",
    "1. 'gender':\n",
    "    - Do học sinh nữ (female) có tổng điểm 3 môn tốt hơn, nên gán giá trị '1': male và '2': female. (xếp từ thấp lên cao)"
   ]
  },
  {
   "cell_type": "code",
   "execution_count": 15,
   "metadata": {},
   "outputs": [
    {
     "data": {
      "text/html": [
       "<div>\n",
       "<style scoped>\n",
       "    .dataframe tbody tr th:only-of-type {\n",
       "        vertical-align: middle;\n",
       "    }\n",
       "\n",
       "    .dataframe tbody tr th {\n",
       "        vertical-align: top;\n",
       "    }\n",
       "\n",
       "    .dataframe thead th {\n",
       "        text-align: right;\n",
       "    }\n",
       "</style>\n",
       "<table border=\"1\" class=\"dataframe\">\n",
       "  <thead>\n",
       "    <tr style=\"text-align: right;\">\n",
       "      <th></th>\n",
       "      <th>gender</th>\n",
       "      <th>race/ethnicity</th>\n",
       "      <th>parental level of education</th>\n",
       "      <th>lunch</th>\n",
       "      <th>test preparation course</th>\n",
       "      <th>math score</th>\n",
       "      <th>reading score</th>\n",
       "      <th>writing score</th>\n",
       "      <th>total score</th>\n",
       "    </tr>\n",
       "  </thead>\n",
       "  <tbody>\n",
       "    <tr>\n",
       "      <th>0</th>\n",
       "      <td>2</td>\n",
       "      <td>group B</td>\n",
       "      <td>bachelor's degree</td>\n",
       "      <td>standard</td>\n",
       "      <td>none</td>\n",
       "      <td>72</td>\n",
       "      <td>72</td>\n",
       "      <td>74</td>\n",
       "      <td>218</td>\n",
       "    </tr>\n",
       "    <tr>\n",
       "      <th>1</th>\n",
       "      <td>2</td>\n",
       "      <td>group C</td>\n",
       "      <td>some college</td>\n",
       "      <td>standard</td>\n",
       "      <td>completed</td>\n",
       "      <td>69</td>\n",
       "      <td>90</td>\n",
       "      <td>88</td>\n",
       "      <td>247</td>\n",
       "    </tr>\n",
       "    <tr>\n",
       "      <th>2</th>\n",
       "      <td>2</td>\n",
       "      <td>group B</td>\n",
       "      <td>master's degree</td>\n",
       "      <td>standard</td>\n",
       "      <td>none</td>\n",
       "      <td>90</td>\n",
       "      <td>95</td>\n",
       "      <td>93</td>\n",
       "      <td>278</td>\n",
       "    </tr>\n",
       "  </tbody>\n",
       "</table>\n",
       "</div>"
      ],
      "text/plain": [
       "   gender race/ethnicity parental level of education     lunch  \\\n",
       "0       2        group B           bachelor's degree  standard   \n",
       "1       2        group C                some college  standard   \n",
       "2       2        group B             master's degree  standard   \n",
       "\n",
       "  test preparation course  math score  reading score  writing score  \\\n",
       "0                    none          72             72             74   \n",
       "1               completed          69             90             88   \n",
       "2                    none          90             95             93   \n",
       "\n",
       "   total score  \n",
       "0          218  \n",
       "1          247  \n",
       "2          278  "
      ]
     },
     "execution_count": 15,
     "metadata": {},
     "output_type": "execute_result"
    }
   ],
   "source": [
    "df['gender'] = df['gender'].map({'male': 1, 'female':2})\n",
    "df[:3]"
   ]
  },
  {
   "cell_type": "markdown",
   "metadata": {},
   "source": [
    "2. 'race/ethnicity':\n",
    "    - Dựa vào đồ thị 'ethnicity', gán các giá trị cho group A -> B -> C -> D -> E tương ứng là 1, 2, 3, 4, 5."
   ]
  },
  {
   "cell_type": "code",
   "execution_count": 16,
   "metadata": {},
   "outputs": [
    {
     "data": {
      "text/html": [
       "<div>\n",
       "<style scoped>\n",
       "    .dataframe tbody tr th:only-of-type {\n",
       "        vertical-align: middle;\n",
       "    }\n",
       "\n",
       "    .dataframe tbody tr th {\n",
       "        vertical-align: top;\n",
       "    }\n",
       "\n",
       "    .dataframe thead th {\n",
       "        text-align: right;\n",
       "    }\n",
       "</style>\n",
       "<table border=\"1\" class=\"dataframe\">\n",
       "  <thead>\n",
       "    <tr style=\"text-align: right;\">\n",
       "      <th></th>\n",
       "      <th>gender</th>\n",
       "      <th>race/ethnicity</th>\n",
       "      <th>parental level of education</th>\n",
       "      <th>lunch</th>\n",
       "      <th>test preparation course</th>\n",
       "      <th>math score</th>\n",
       "      <th>reading score</th>\n",
       "      <th>writing score</th>\n",
       "      <th>total score</th>\n",
       "    </tr>\n",
       "  </thead>\n",
       "  <tbody>\n",
       "    <tr>\n",
       "      <th>0</th>\n",
       "      <td>2</td>\n",
       "      <td>2</td>\n",
       "      <td>bachelor's degree</td>\n",
       "      <td>standard</td>\n",
       "      <td>none</td>\n",
       "      <td>72</td>\n",
       "      <td>72</td>\n",
       "      <td>74</td>\n",
       "      <td>218</td>\n",
       "    </tr>\n",
       "    <tr>\n",
       "      <th>1</th>\n",
       "      <td>2</td>\n",
       "      <td>3</td>\n",
       "      <td>some college</td>\n",
       "      <td>standard</td>\n",
       "      <td>completed</td>\n",
       "      <td>69</td>\n",
       "      <td>90</td>\n",
       "      <td>88</td>\n",
       "      <td>247</td>\n",
       "    </tr>\n",
       "    <tr>\n",
       "      <th>2</th>\n",
       "      <td>2</td>\n",
       "      <td>2</td>\n",
       "      <td>master's degree</td>\n",
       "      <td>standard</td>\n",
       "      <td>none</td>\n",
       "      <td>90</td>\n",
       "      <td>95</td>\n",
       "      <td>93</td>\n",
       "      <td>278</td>\n",
       "    </tr>\n",
       "  </tbody>\n",
       "</table>\n",
       "</div>"
      ],
      "text/plain": [
       "   gender  race/ethnicity parental level of education     lunch  \\\n",
       "0       2               2           bachelor's degree  standard   \n",
       "1       2               3                some college  standard   \n",
       "2       2               2             master's degree  standard   \n",
       "\n",
       "  test preparation course  math score  reading score  writing score  \\\n",
       "0                    none          72             72             74   \n",
       "1               completed          69             90             88   \n",
       "2                    none          90             95             93   \n",
       "\n",
       "   total score  \n",
       "0          218  \n",
       "1          247  \n",
       "2          278  "
      ]
     },
     "execution_count": 16,
     "metadata": {},
     "output_type": "execute_result"
    }
   ],
   "source": [
    "df['race/ethnicity'] = df['race/ethnicity'].map({'group A': 1, 'group B': 2,\n",
    "                                                'group C': 3, 'group D': 4,\n",
    "                                                'group E': 5})\n",
    "df[:3]"
   ]
  },
  {
   "cell_type": "markdown",
   "metadata": {},
   "source": [
    "3. 'parental level of education':\n",
    "    - Dựa vào đồ thị 'parental level of education', gán các giá trị lần lượt 1 từ đến 6 theo tổng điểm tăng dần."
   ]
  },
  {
   "cell_type": "code",
   "execution_count": 17,
   "metadata": {},
   "outputs": [
    {
     "data": {
      "text/html": [
       "<div>\n",
       "<style scoped>\n",
       "    .dataframe tbody tr th:only-of-type {\n",
       "        vertical-align: middle;\n",
       "    }\n",
       "\n",
       "    .dataframe tbody tr th {\n",
       "        vertical-align: top;\n",
       "    }\n",
       "\n",
       "    .dataframe thead th {\n",
       "        text-align: right;\n",
       "    }\n",
       "</style>\n",
       "<table border=\"1\" class=\"dataframe\">\n",
       "  <thead>\n",
       "    <tr style=\"text-align: right;\">\n",
       "      <th></th>\n",
       "      <th>gender</th>\n",
       "      <th>race/ethnicity</th>\n",
       "      <th>parental level of education</th>\n",
       "      <th>lunch</th>\n",
       "      <th>test preparation course</th>\n",
       "      <th>math score</th>\n",
       "      <th>reading score</th>\n",
       "      <th>writing score</th>\n",
       "      <th>total score</th>\n",
       "    </tr>\n",
       "  </thead>\n",
       "  <tbody>\n",
       "    <tr>\n",
       "      <th>0</th>\n",
       "      <td>2</td>\n",
       "      <td>2</td>\n",
       "      <td>5</td>\n",
       "      <td>standard</td>\n",
       "      <td>none</td>\n",
       "      <td>72</td>\n",
       "      <td>72</td>\n",
       "      <td>74</td>\n",
       "      <td>218</td>\n",
       "    </tr>\n",
       "    <tr>\n",
       "      <th>1</th>\n",
       "      <td>2</td>\n",
       "      <td>3</td>\n",
       "      <td>3</td>\n",
       "      <td>standard</td>\n",
       "      <td>completed</td>\n",
       "      <td>69</td>\n",
       "      <td>90</td>\n",
       "      <td>88</td>\n",
       "      <td>247</td>\n",
       "    </tr>\n",
       "    <tr>\n",
       "      <th>2</th>\n",
       "      <td>2</td>\n",
       "      <td>2</td>\n",
       "      <td>6</td>\n",
       "      <td>standard</td>\n",
       "      <td>none</td>\n",
       "      <td>90</td>\n",
       "      <td>95</td>\n",
       "      <td>93</td>\n",
       "      <td>278</td>\n",
       "    </tr>\n",
       "  </tbody>\n",
       "</table>\n",
       "</div>"
      ],
      "text/plain": [
       "   gender  race/ethnicity  parental level of education     lunch  \\\n",
       "0       2               2                            5  standard   \n",
       "1       2               3                            3  standard   \n",
       "2       2               2                            6  standard   \n",
       "\n",
       "  test preparation course  math score  reading score  writing score  \\\n",
       "0                    none          72             72             74   \n",
       "1               completed          69             90             88   \n",
       "2                    none          90             95             93   \n",
       "\n",
       "   total score  \n",
       "0          218  \n",
       "1          247  \n",
       "2          278  "
      ]
     },
     "execution_count": 17,
     "metadata": {},
     "output_type": "execute_result"
    }
   ],
   "source": [
    "df['parental level of education'] = df['parental level of education'].map({\n",
    "                                    'high school': 1, 'some high school': 2,\n",
    "                                    'some college': 3, \"associate's degree\": 4,\n",
    "                                    \"bachelor's degree\": 5, \"master's degree\": 6})\n",
    "df[:3]"
   ]
  },
  {
   "cell_type": "markdown",
   "metadata": {},
   "source": [
    "4. 'lunch':\n",
    "    - Dựa vào đồ thị 'lunch', 'standard' cho thống kê tổng điểm cao nhất nên gán giá trị: 2 và gán 'free/reduced': 1."
   ]
  },
  {
   "cell_type": "code",
   "execution_count": 18,
   "metadata": {},
   "outputs": [
    {
     "data": {
      "text/html": [
       "<div>\n",
       "<style scoped>\n",
       "    .dataframe tbody tr th:only-of-type {\n",
       "        vertical-align: middle;\n",
       "    }\n",
       "\n",
       "    .dataframe tbody tr th {\n",
       "        vertical-align: top;\n",
       "    }\n",
       "\n",
       "    .dataframe thead th {\n",
       "        text-align: right;\n",
       "    }\n",
       "</style>\n",
       "<table border=\"1\" class=\"dataframe\">\n",
       "  <thead>\n",
       "    <tr style=\"text-align: right;\">\n",
       "      <th></th>\n",
       "      <th>gender</th>\n",
       "      <th>race/ethnicity</th>\n",
       "      <th>parental level of education</th>\n",
       "      <th>lunch</th>\n",
       "      <th>test preparation course</th>\n",
       "      <th>math score</th>\n",
       "      <th>reading score</th>\n",
       "      <th>writing score</th>\n",
       "      <th>total score</th>\n",
       "    </tr>\n",
       "  </thead>\n",
       "  <tbody>\n",
       "    <tr>\n",
       "      <th>0</th>\n",
       "      <td>2</td>\n",
       "      <td>2</td>\n",
       "      <td>5</td>\n",
       "      <td>2</td>\n",
       "      <td>none</td>\n",
       "      <td>72</td>\n",
       "      <td>72</td>\n",
       "      <td>74</td>\n",
       "      <td>218</td>\n",
       "    </tr>\n",
       "    <tr>\n",
       "      <th>1</th>\n",
       "      <td>2</td>\n",
       "      <td>3</td>\n",
       "      <td>3</td>\n",
       "      <td>2</td>\n",
       "      <td>completed</td>\n",
       "      <td>69</td>\n",
       "      <td>90</td>\n",
       "      <td>88</td>\n",
       "      <td>247</td>\n",
       "    </tr>\n",
       "    <tr>\n",
       "      <th>2</th>\n",
       "      <td>2</td>\n",
       "      <td>2</td>\n",
       "      <td>6</td>\n",
       "      <td>2</td>\n",
       "      <td>none</td>\n",
       "      <td>90</td>\n",
       "      <td>95</td>\n",
       "      <td>93</td>\n",
       "      <td>278</td>\n",
       "    </tr>\n",
       "  </tbody>\n",
       "</table>\n",
       "</div>"
      ],
      "text/plain": [
       "   gender  race/ethnicity  parental level of education  lunch  \\\n",
       "0       2               2                            5      2   \n",
       "1       2               3                            3      2   \n",
       "2       2               2                            6      2   \n",
       "\n",
       "  test preparation course  math score  reading score  writing score  \\\n",
       "0                    none          72             72             74   \n",
       "1               completed          69             90             88   \n",
       "2                    none          90             95             93   \n",
       "\n",
       "   total score  \n",
       "0          218  \n",
       "1          247  \n",
       "2          278  "
      ]
     },
     "execution_count": 18,
     "metadata": {},
     "output_type": "execute_result"
    }
   ],
   "source": [
    "df['lunch'] = df['lunch'].map({'free/reduced': 1, 'standard' : 2})\n",
    "df[:3]"
   ]
  },
  {
   "cell_type": "markdown",
   "metadata": {},
   "source": [
    "5. 'test preparation course':\n",
    "    - Dựa vào đồ thị 'test preparation course', 'completed' cho thống kê tổng điểm cao nhất nên gán giá trị: 2 và gán 'none': 1."
   ]
  },
  {
   "cell_type": "code",
   "execution_count": 19,
   "metadata": {},
   "outputs": [
    {
     "data": {
      "text/html": [
       "<div>\n",
       "<style scoped>\n",
       "    .dataframe tbody tr th:only-of-type {\n",
       "        vertical-align: middle;\n",
       "    }\n",
       "\n",
       "    .dataframe tbody tr th {\n",
       "        vertical-align: top;\n",
       "    }\n",
       "\n",
       "    .dataframe thead th {\n",
       "        text-align: right;\n",
       "    }\n",
       "</style>\n",
       "<table border=\"1\" class=\"dataframe\">\n",
       "  <thead>\n",
       "    <tr style=\"text-align: right;\">\n",
       "      <th></th>\n",
       "      <th>gender</th>\n",
       "      <th>race/ethnicity</th>\n",
       "      <th>parental level of education</th>\n",
       "      <th>lunch</th>\n",
       "      <th>test preparation course</th>\n",
       "      <th>math score</th>\n",
       "      <th>reading score</th>\n",
       "      <th>writing score</th>\n",
       "      <th>total score</th>\n",
       "    </tr>\n",
       "  </thead>\n",
       "  <tbody>\n",
       "    <tr>\n",
       "      <th>0</th>\n",
       "      <td>2</td>\n",
       "      <td>2</td>\n",
       "      <td>5</td>\n",
       "      <td>2</td>\n",
       "      <td>1</td>\n",
       "      <td>72</td>\n",
       "      <td>72</td>\n",
       "      <td>74</td>\n",
       "      <td>218</td>\n",
       "    </tr>\n",
       "    <tr>\n",
       "      <th>1</th>\n",
       "      <td>2</td>\n",
       "      <td>3</td>\n",
       "      <td>3</td>\n",
       "      <td>2</td>\n",
       "      <td>2</td>\n",
       "      <td>69</td>\n",
       "      <td>90</td>\n",
       "      <td>88</td>\n",
       "      <td>247</td>\n",
       "    </tr>\n",
       "    <tr>\n",
       "      <th>2</th>\n",
       "      <td>2</td>\n",
       "      <td>2</td>\n",
       "      <td>6</td>\n",
       "      <td>2</td>\n",
       "      <td>1</td>\n",
       "      <td>90</td>\n",
       "      <td>95</td>\n",
       "      <td>93</td>\n",
       "      <td>278</td>\n",
       "    </tr>\n",
       "  </tbody>\n",
       "</table>\n",
       "</div>"
      ],
      "text/plain": [
       "   gender  race/ethnicity  parental level of education  lunch  \\\n",
       "0       2               2                            5      2   \n",
       "1       2               3                            3      2   \n",
       "2       2               2                            6      2   \n",
       "\n",
       "   test preparation course  math score  reading score  writing score  \\\n",
       "0                        1          72             72             74   \n",
       "1                        2          69             90             88   \n",
       "2                        1          90             95             93   \n",
       "\n",
       "   total score  \n",
       "0          218  \n",
       "1          247  \n",
       "2          278  "
      ]
     },
     "execution_count": 19,
     "metadata": {},
     "output_type": "execute_result"
    }
   ],
   "source": [
    "df['test preparation course'] = df['test preparation course'].map({'none': 1, 'completed': 2})\n",
    "df[:3]"
   ]
  },
  {
   "cell_type": "markdown",
   "metadata": {},
   "source": [
    "Tính sự tương quan giữa các đặc trưng:"
   ]
  },
  {
   "cell_type": "code",
   "execution_count": 20,
   "metadata": {},
   "outputs": [
    {
     "data": {
      "text/html": [
       "<div>\n",
       "<style scoped>\n",
       "    .dataframe tbody tr th:only-of-type {\n",
       "        vertical-align: middle;\n",
       "    }\n",
       "\n",
       "    .dataframe tbody tr th {\n",
       "        vertical-align: top;\n",
       "    }\n",
       "\n",
       "    .dataframe thead th {\n",
       "        text-align: right;\n",
       "    }\n",
       "</style>\n",
       "<table border=\"1\" class=\"dataframe\">\n",
       "  <thead>\n",
       "    <tr style=\"text-align: right;\">\n",
       "      <th></th>\n",
       "      <th>gender</th>\n",
       "      <th>race/ethnicity</th>\n",
       "      <th>parental level of education</th>\n",
       "      <th>lunch</th>\n",
       "      <th>test preparation course</th>\n",
       "      <th>math score</th>\n",
       "      <th>reading score</th>\n",
       "      <th>writing score</th>\n",
       "      <th>total score</th>\n",
       "    </tr>\n",
       "  </thead>\n",
       "  <tbody>\n",
       "    <tr>\n",
       "      <th>gender</th>\n",
       "      <td>1.000000</td>\n",
       "      <td>0.001502</td>\n",
       "      <td>0.051255</td>\n",
       "      <td>-0.021372</td>\n",
       "      <td>-0.006028</td>\n",
       "      <td>-0.167982</td>\n",
       "      <td>0.244313</td>\n",
       "      <td>0.301225</td>\n",
       "      <td>0.130861</td>\n",
       "    </tr>\n",
       "    <tr>\n",
       "      <th>race/ethnicity</th>\n",
       "      <td>0.001502</td>\n",
       "      <td>1.000000</td>\n",
       "      <td>0.094115</td>\n",
       "      <td>0.046563</td>\n",
       "      <td>0.017508</td>\n",
       "      <td>0.216415</td>\n",
       "      <td>0.145253</td>\n",
       "      <td>0.165691</td>\n",
       "      <td>0.185168</td>\n",
       "    </tr>\n",
       "    <tr>\n",
       "      <th>parental level of education</th>\n",
       "      <td>0.051255</td>\n",
       "      <td>0.094115</td>\n",
       "      <td>1.000000</td>\n",
       "      <td>-0.018780</td>\n",
       "      <td>0.031177</td>\n",
       "      <td>0.171332</td>\n",
       "      <td>0.210623</td>\n",
       "      <td>0.257498</td>\n",
       "      <td>0.224117</td>\n",
       "    </tr>\n",
       "    <tr>\n",
       "      <th>lunch</th>\n",
       "      <td>-0.021372</td>\n",
       "      <td>0.046563</td>\n",
       "      <td>-0.018780</td>\n",
       "      <td>1.000000</td>\n",
       "      <td>-0.017044</td>\n",
       "      <td>0.350877</td>\n",
       "      <td>0.229560</td>\n",
       "      <td>0.245769</td>\n",
       "      <td>0.290064</td>\n",
       "    </tr>\n",
       "    <tr>\n",
       "      <th>test preparation course</th>\n",
       "      <td>-0.006028</td>\n",
       "      <td>0.017508</td>\n",
       "      <td>0.031177</td>\n",
       "      <td>-0.017044</td>\n",
       "      <td>1.000000</td>\n",
       "      <td>0.177702</td>\n",
       "      <td>0.241780</td>\n",
       "      <td>0.312946</td>\n",
       "      <td>0.256710</td>\n",
       "    </tr>\n",
       "    <tr>\n",
       "      <th>math score</th>\n",
       "      <td>-0.167982</td>\n",
       "      <td>0.216415</td>\n",
       "      <td>0.171332</td>\n",
       "      <td>0.350877</td>\n",
       "      <td>0.177702</td>\n",
       "      <td>1.000000</td>\n",
       "      <td>0.817580</td>\n",
       "      <td>0.802642</td>\n",
       "      <td>0.918746</td>\n",
       "    </tr>\n",
       "    <tr>\n",
       "      <th>reading score</th>\n",
       "      <td>0.244313</td>\n",
       "      <td>0.145253</td>\n",
       "      <td>0.210623</td>\n",
       "      <td>0.229560</td>\n",
       "      <td>0.241780</td>\n",
       "      <td>0.817580</td>\n",
       "      <td>1.000000</td>\n",
       "      <td>0.954598</td>\n",
       "      <td>0.970331</td>\n",
       "    </tr>\n",
       "    <tr>\n",
       "      <th>writing score</th>\n",
       "      <td>0.301225</td>\n",
       "      <td>0.165691</td>\n",
       "      <td>0.257498</td>\n",
       "      <td>0.245769</td>\n",
       "      <td>0.312946</td>\n",
       "      <td>0.802642</td>\n",
       "      <td>0.954598</td>\n",
       "      <td>1.000000</td>\n",
       "      <td>0.965667</td>\n",
       "    </tr>\n",
       "    <tr>\n",
       "      <th>total score</th>\n",
       "      <td>0.130861</td>\n",
       "      <td>0.185168</td>\n",
       "      <td>0.224117</td>\n",
       "      <td>0.290064</td>\n",
       "      <td>0.256710</td>\n",
       "      <td>0.918746</td>\n",
       "      <td>0.970331</td>\n",
       "      <td>0.965667</td>\n",
       "      <td>1.000000</td>\n",
       "    </tr>\n",
       "  </tbody>\n",
       "</table>\n",
       "</div>"
      ],
      "text/plain": [
       "                               gender  race/ethnicity  \\\n",
       "gender                       1.000000        0.001502   \n",
       "race/ethnicity               0.001502        1.000000   \n",
       "parental level of education  0.051255        0.094115   \n",
       "lunch                       -0.021372        0.046563   \n",
       "test preparation course     -0.006028        0.017508   \n",
       "math score                  -0.167982        0.216415   \n",
       "reading score                0.244313        0.145253   \n",
       "writing score                0.301225        0.165691   \n",
       "total score                  0.130861        0.185168   \n",
       "\n",
       "                             parental level of education     lunch  \\\n",
       "gender                                          0.051255 -0.021372   \n",
       "race/ethnicity                                  0.094115  0.046563   \n",
       "parental level of education                     1.000000 -0.018780   \n",
       "lunch                                          -0.018780  1.000000   \n",
       "test preparation course                         0.031177 -0.017044   \n",
       "math score                                      0.171332  0.350877   \n",
       "reading score                                   0.210623  0.229560   \n",
       "writing score                                   0.257498  0.245769   \n",
       "total score                                     0.224117  0.290064   \n",
       "\n",
       "                             test preparation course  math score  \\\n",
       "gender                                     -0.006028   -0.167982   \n",
       "race/ethnicity                              0.017508    0.216415   \n",
       "parental level of education                 0.031177    0.171332   \n",
       "lunch                                      -0.017044    0.350877   \n",
       "test preparation course                     1.000000    0.177702   \n",
       "math score                                  0.177702    1.000000   \n",
       "reading score                               0.241780    0.817580   \n",
       "writing score                               0.312946    0.802642   \n",
       "total score                                 0.256710    0.918746   \n",
       "\n",
       "                             reading score  writing score  total score  \n",
       "gender                            0.244313       0.301225     0.130861  \n",
       "race/ethnicity                    0.145253       0.165691     0.185168  \n",
       "parental level of education       0.210623       0.257498     0.224117  \n",
       "lunch                             0.229560       0.245769     0.290064  \n",
       "test preparation course           0.241780       0.312946     0.256710  \n",
       "math score                        0.817580       0.802642     0.918746  \n",
       "reading score                     1.000000       0.954598     0.970331  \n",
       "writing score                     0.954598       1.000000     0.965667  \n",
       "total score                       0.970331       0.965667     1.000000  "
      ]
     },
     "execution_count": 20,
     "metadata": {},
     "output_type": "execute_result"
    }
   ],
   "source": [
    "df_corr = df.corr()\n",
    "df_corr\n"
   ]
  },
  {
   "cell_type": "code",
   "execution_count": 21,
   "metadata": {},
   "outputs": [
    {
     "data": {
      "text/plain": [
       "<AxesSubplot:>"
      ]
     },
     "execution_count": 21,
     "metadata": {},
     "output_type": "execute_result"
    },
    {
     "data": {
      "image/png": "[encoded data removed]",
      "text/plain": [
       "<Figure size 1080x720 with 2 Axes>"
      ]
     },
     "metadata": {
      "needs_background": "light"
     },
     "output_type": "display_data"
    }
   ],
   "source": [
    "plt.figure(figsize=(15,10))\n",
    "sns.heatmap(df_corr)"
   ]
  },
  {
   "cell_type": "code",
   "execution_count": 22,
   "metadata": {},
   "outputs": [
    {
     "data": {
      "text/plain": [
       "total score                    1.000000\n",
       "reading score                  0.970331\n",
       "writing score                  0.965667\n",
       "math score                     0.918746\n",
       "lunch                          0.290064\n",
       "test preparation course        0.256710\n",
       "parental level of education    0.224117\n",
       "race/ethnicity                 0.185168\n",
       "gender                         0.130861\n",
       "Name: total score, dtype: float64"
      ]
     },
     "execution_count": 22,
     "metadata": {},
     "output_type": "execute_result"
    }
   ],
   "source": [
    "df_corr['total score'].sort_values(ascending=False)"
   ]
  },
  {
   "cell_type": "markdown",
   "metadata": {},
   "source": [
    "* Quy luật tiềm ẩn giữa các đặc trưng dựa vào ma trận tương quan heatmap trên:\n",
    "-----\n",
    "    - Học sinh làm tốt bài kiểm tra Đọc thì thực hiện tốt ngay cả trong bài kiểm tra Viết.\n",
    "    - Nếu điểm Đọc của một học sinh cao, thì điểm Viết có khả năng cao cũng như điểm Toán.\n",
    "    - Các đặc trưng 'race/ethnicity' và 'lunch' ảnh hưởng đến điểm Toán nhiều hơn điểm Đọc và điểm Viết.\n",
    "    - Đặc trưng 'parental level of education' ảnh hưởng đến điểm Đọc và điểm Viết nhiều hơn điểm Toán.\n",
    "    - Các đặc trưng ảnh hưởng đến tổng điểm (total score) lần lượt theo tầm quan trọng là: 'lunch', 'test preparation course', 'parental level of education'."
   ]
  },
  {
   "cell_type": "markdown",
   "metadata": {},
   "source": [
    "* KẾT LUẬN:\n",
    "    - Với những quy luật tiềm ẩn như trên, phụ huynh học sinh cũng như là các em có thể hiểu rõ hơn về những tính chất quan trọng để có thể giúp các em cải thiện hơn về mặt điểm số."
   ]
  }
 ],
 "metadata": {
  "interpreter": {
   "hash": "63fd5069d213b44bf678585dea6b12cceca9941eaf7f819626cde1f2670de90d"
  },
  "kernelspec": {
   "display_name": "Python 3.9.7 64-bit",
   "language": "python",
   "name": "python3"
  },
  "language_info": {
   "codemirror_mode": {
    "name": "ipython",
    "version": 3
   },
   "file_extension": ".py",
   "mimetype": "text/x-python",
   "name": "python",
   "nbconvert_exporter": "python",
   "pygments_lexer": "ipython3",
   "version": "3.9.7"
  },
  "orig_nbformat": 4
 },
 "nbformat": 4,
 "nbformat_minor": 2
}
